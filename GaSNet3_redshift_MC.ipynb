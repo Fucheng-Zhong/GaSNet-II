{
  "cells": [
    {
      "cell_type": "code",
      "execution_count": 2,
      "metadata": {
        "id": "FF1EAN0dwa80"
      },
      "outputs": [],
      "source": [
        "import GaSNet_MC_model as GaSNet_MC\n",
        "import pandas as pd\n",
        "import numpy as np\n",
        "from astropy.table import Table, vstack"
      ]
    },
    {
      "attachments": {},
      "cell_type": "markdown",
      "metadata": {},
      "source": [
        "## load data"
      ]
    },
    {
      "cell_type": "code",
      "execution_count": 10,
      "metadata": {
        "colab": {
          "base_uri": "https://localhost:8080/"
        },
        "id": "PbiriFygJlgM",
        "outputId": "6a823cee-9605-4c8c-b982-47e2cac615b5"
      },
      "outputs": [
        {
          "name": "stdout",
          "output_type": "stream",
          "text": [
            "{'QSO_nan': ['QSO', 'nan'], 'GALAXY_STARFORMING': ['GALAXY', 'STARFORMING'], 'GALAXY_nan': ['GALAXY', 'nan'], 'GALAXY_STARBURST': ['GALAXY', 'STARBURST'], 'QSO_BROADLINE': ['QSO', 'BROADLINE'], 'GALAXY_AGN': ['GALAXY', 'AGN']}\n"
          ]
        }
      ],
      "source": [
        "# read catalog\n",
        "ctalog = pd.read_csv('SDSS_DR16_class_num20k.csv')\n",
        "\n",
        "redshift_subsets = []\n",
        "for i, row in ctalog.iterrows():\n",
        "    if row['class'] == 'STAR':\n",
        "        continue\n",
        "    subset = {'class':row['class'], 'subclass': str(row['subclass'])}\n",
        "    redshift_subsets.append(subset)\n",
        "    \n",
        "print('redshift subsets:',redshift_subsets)\n",
        "# load data\n",
        "tra = Table.read('train.fits')\n",
        "tra['CLASS'] = tra['CLASS'].astype(str)\n",
        "tra['CLASS'] = tra['CLASS'].data.flatten()\n",
        "tra['SUBCLASS'] = tra['SUBCLASS'].astype(str)\n",
        "tra['SUBCLASS'] = tra['SUBCLASS'].data.flatten()\n",
        "\n",
        "val = Table.read('valid.fits')\n",
        "val['CLASS'] = val['CLASS'].astype(str)\n",
        "val['CLASS'] = val['CLASS'].data.flatten()\n",
        "val['SUBCLASS'] = val['SUBCLASS'].astype(str)\n",
        "val['SUBCLASS'] = val['SUBCLASS'].data.flatten()\n",
        "\n",
        "tes = Table.read('test.fits')\n",
        "tes['CLASS'] = tes['CLASS'].astype(str)\n",
        "tes['CLASS'] = tes['CLASS'].data.flatten()\n",
        "tes['SUBCLASS'] = tes['SUBCLASS'].astype(str)\n",
        "tes['SUBCLASS'] = tes['SUBCLASS'].data.flatten()\n",
        "\n",
        "\n",
        "# label the redshift only select the subclass as training data\n",
        "def redshift_lable(clas, subclass):\n",
        "    train = tra[ (tra['CLASS']==clas) & (tra['SUBCLASS']==subclass) ]\n",
        "    valid = val[ (val['CLASS']==clas) & (val['SUBCLASS']==subclass) ]\n",
        "    test =  tes[ (tes['CLASS']==clas) & (tes['SUBCLASS']==subclass) ]\n",
        "\n",
        "    train = {'flux':train['int_flux'], 'label':train['Z']}\n",
        "    valid = {'flux':valid['int_flux'], 'label':valid['Z']}\n",
        "    test =  {'flux':test['int_flux'],  'label':test['Z'], \n",
        "             'SNR':test['SN_MEDIAN_ALL'].data.flatten(), \n",
        "             'CLASS':test['CLASS'], 'SUBCLASS':test['SUBCLASS'],\n",
        "             'PLATE':test['PLATE'], 'MJD':test['MJD'], 'FIBERID':test['FIBERID']}\n",
        "    \n",
        "    train_data = {'train':train,'valid':valid}\n",
        "    print('train:',len(train['flux']),'vaild:',len(valid['flux']),'test:',len(test['flux']))\n",
        "    return train_data, test\n",
        "\n",
        "# lable the subclass\n",
        "def connect(data):\n",
        "    connet = np.array([['_'],]*len(data))\n",
        "    labels = np.char.add(data['CLASS'].data.reshape(-1,1),connet)\n",
        "    labels = np.char.add(labels,data['SUBCLASS'].data.reshape(-1,1))\n",
        "    return labels\n",
        "\n",
        "def class_label():\n",
        "    train = {'flux':tra['int_flux'],'label':connect(tra)}\n",
        "    valid = {'flux':val['int_flux'],'label':connect(val)}\n",
        "    test =  {'flux':tes['int_flux'],'label':connect(tes), 'SNR':tes['SN_MEDIAN_ALL'].data.flatten(), \n",
        "             'SNR':tes['SN_MEDIAN_ALL'].data.flatten(), \n",
        "             'CLASS':tes['CLASS'], 'SUBCLASS':tes['SUBCLASS'],\n",
        "             'PLATE':tes['PLATE'], 'MJD':tes['MJD'], 'FIBERID':tes['FIBERID']}\n",
        "\n",
        "    train_data = {'train':train,'valid':valid}\n",
        "    print('train:',len(train['flux']),'vaild:',len(valid['flux']),'test:',len(test['flux']))\n",
        "    return train_data, test"
      ]
    },
    {
      "attachments": {},
      "cell_type": "markdown",
      "metadata": {},
      "source": [
        "## Training for redshift"
      ]
    },
    {
      "cell_type": "code",
      "execution_count": null,
      "metadata": {},
      "outputs": [],
      "source": [
        "import time\n",
        "\n",
        "all_test_results = []\n",
        "\n",
        "for subset in redshift_subsets:\n",
        "    print('Now training:', subset )\n",
        "    Network_name = '{}_{}-MC'.format(subset['class'], subset['subclass'])\n",
        "    gasnet3 = GaSNet_MC.GaSNet3(Network_name, Network_name, task='regression', scale_factor=10)\n",
        "    gasnet3.Plot_Model()\n",
        "    # data\n",
        "    train_data, test = redshift_lable(subset['class'], subset['subclass'])\n",
        "    # training\n",
        "    #gasnet3.Train_Model(train_data, epo=50)\n",
        "    # test\n",
        "    start_time = time.time()\n",
        "    pred_hat, pred_std = gasnet3.Prodiction(test['flux'])\n",
        "    end_time = time.time()\n",
        "    total_time = end_time - start_time\n",
        "    print(Network_name, 'Num:', len(test['flux']),'Time:', total_time,'each specturm time:',total_time/len(test['flux']))\n",
        "    # saving the results\n",
        "    test['pred_bar'] = pred_hat\n",
        "    test['pred_std'] = pred_std\n",
        "    test['class'] = [subset['class']] * len(pred_hat)\n",
        "    test['subclass'] = [subset['subclass']] * len(pred_hat)\n",
        "    del test['flux']\n",
        "    test = Table(test)\n",
        "    test.write('results/'+gasnet3.Network_name+'.fits',format='fits',overwrite=True)\n",
        "    all_test_results.append(test)\n",
        "    \n",
        "\n",
        "all_test_results = vstack(all_test_results)\n",
        "all_test_results.write('./results/test_results.fits',format='fits',overwrite=True)\n"
      ]
    },
    {
      "cell_type": "markdown",
      "metadata": {},
      "source": [
        "## Training for classification"
      ]
    },
    {
      "cell_type": "code",
      "execution_count": null,
      "metadata": {},
      "outputs": [],
      "source": [
        "import time\n",
        "\n",
        "classfy_label = {}\n",
        "for i, row in ctalog.iterrows():\n",
        "    key = '{}_{}'.format(row['class'],str(row['subclass']))\n",
        "    classfy_label[key] = i\n",
        "print('classfy label:',classfy_label)\n",
        "\n",
        "Network_name = 'classify_model'\n",
        "gasnet3 = GaSNet_MC.GaSNet3(Network_name, classfy_label, task='classification')\n",
        "gasnet3.Plot_Model()\n",
        "# data\n",
        "train_data, test = class_label()\n",
        "# training\n",
        "#gasnet3.Train_Model(train_data, epo=50)\n",
        "# test\n",
        "start_time = time.time()\n",
        "pred_label = gasnet3.Prodiction(test['flux'])\n",
        "end_time = time.time()\n",
        "total_time = end_time - start_time\n",
        "print(Network_name, 'Num:', len(test['flux']),'Time:', total_time,'each specturm time:',total_time/len(test['flux']))\n",
        "# saving the results\n",
        "test['pred_label'] = pred_label\n",
        "del test['flux']\n",
        "test = Table(test)\n",
        "test.write('results/'+gasnet3.Network_name+'.fits',format='fits',overwrite=True)"
      ]
    }
  ],
  "metadata": {
    "colab": {
      "provenance": []
    },
    "gpuClass": "standard",
    "kernelspec": {
      "display_name": "Python 3.10.5 64-bit",
      "language": "python",
      "name": "python3"
    },
    "language_info": {
      "codemirror_mode": {
        "name": "ipython",
        "version": 3
      },
      "file_extension": ".py",
      "mimetype": "text/x-python",
      "name": "python",
      "nbconvert_exporter": "python",
      "pygments_lexer": "ipython3",
      "version": "3.10.5"
    },
    "vscode": {
      "interpreter": {
        "hash": "aee8b7b246df8f9039afb4144a1f6fd8d2ca17a180786b69acc140d282b71a49"
      }
    }
  },
  "nbformat": 4,
  "nbformat_minor": 0
}
